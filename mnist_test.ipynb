{
 "cells": [
  {
   "cell_type": "markdown",
   "id": "88673ca9",
   "metadata": {},
   "source": [
    "# MNIST Evaluation"
   ]
  },
  {
   "cell_type": "markdown",
   "id": "01bf6bb3",
   "metadata": {},
   "source": [
    "## Common functions"
   ]
  },
  {
   "cell_type": "code",
   "execution_count": null,
   "id": "d1b4da1c",
   "metadata": {},
   "outputs": [],
   "source": [
    "import numpy as np\n",
    "from sklearn.datasets import load_digits\n",
    "from tqdm import tqdm\n",
    "import matplotlib.pyplot as plt\n",
    "\n",
    "def make_linear_kernel():\n",
    "    \"\"\"\n",
    "    线性核：k(x, y) = x · y^T\n",
    "    \"\"\"\n",
    "    def kernel(X: np.ndarray, Y: np.ndarray) -> np.ndarray:\n",
    "        return X.dot(Y.T)\n",
    "    return kernel\n",
    "\n",
    "def make_polynomial_kernel(degree: int = 3, gamma: float = None, coef0: float = 1.0):\n",
    "    \"\"\"\n",
    "    多项式核：k(x, y) = (gamma * x·y^T + coef0)^degree\n",
    "    如果未指定 gamma，则默认 gamma = 1 / dim。\n",
    "    \"\"\"\n",
    "    def kernel(X: np.ndarray, Y: np.ndarray) -> np.ndarray:\n",
    "        nonlocal gamma\n",
    "        if gamma is None:\n",
    "            gamma = 1.0 / X.shape[1]\n",
    "        return (gamma * X.dot(Y.T) + coef0) ** degree\n",
    "    return kernel\n",
    "\n",
    "def make_sigmoid_kernel(alpha: float = 0.01, coef0: float = 0.0):\n",
    "    \"\"\"\n",
    "    Sigmoid 核（双曲正切核，也叫神经网络核）：k(x, y) = tanh(alpha * x·y^T + coef0)\n",
    "    \"\"\"\n",
    "    def kernel(X: np.ndarray, Y: np.ndarray) -> np.ndarray:\n",
    "        return np.tanh(alpha * X.dot(Y.T) + coef0)\n",
    "    return kernel\n",
    "\n",
    "def make_laplacian_kernel(sigma: float = 1.0):\n",
    "    \"\"\"\n",
    "    拉普拉斯核（基于 L1 距离）：k(x, y) = exp( -||x - y||_1 / sigma )\n",
    "    \"\"\"\n",
    "    def kernel(X: np.ndarray, Y: np.ndarray) -> np.ndarray:\n",
    "        # 计算成对的 L1 距离矩阵\n",
    "        abs_diff = np.abs(X[:, None, :] - Y[None, :, :])\n",
    "        dist = np.sum(abs_diff, axis=2)\n",
    "        return np.exp(-dist / sigma)\n",
    "    return kernel\n",
    "\n",
    "# 可选：Matern 核（ν = 3/2 形式示例）\n",
    "def make_matern32_kernel(length_scale: float = 1.0):\n",
    "    \"\"\"\n",
    "    Matern-3/2 核：k(r) = (1 + sqrt(3) r / l) * exp(-sqrt(3) r / l)\n",
    "    其中 r = ||x - y||_2，l = length_scale。\n",
    "    \"\"\"\n",
    "    def kernel(X: np.ndarray, Y: np.ndarray) -> np.ndarray:\n",
    "        # 计算成对的 L2 距离矩阵\n",
    "        sq_dist = np.sum((X[:, None, :] - Y[None, :, :])**2, axis=2)\n",
    "        r = np.sqrt(sq_dist)\n",
    "        factor = np.sqrt(3) * r / length_scale\n",
    "        return (1 + factor) * np.exp(-factor)\n",
    "    return kernel\n",
    "\n",
    "# 1. RBF‐kernel 工厂函数：指定 sigma 后返回一个 kernel(X, Y) 函数\n",
    "def make_rbf_kernel(sigma: float):\n",
    "    \"\"\"\n",
    "    返回一个 Gaussian RBF kernel 函数，固定带宽 sigma。\n",
    "    kernel(X, Y) 接受形状为 (n, d) 和 (m, d) 的数组，返回 (n, m) 的相似度矩阵。\n",
    "    \"\"\"\n",
    "    def kernel(X: np.ndarray, Y: np.ndarray) -> np.ndarray:\n",
    "        # 广播计算平方距离\n",
    "        # X[:, None, :] 变为 (n,1,d)，Y[None, :, :] 变为 (1,m,d)\n",
    "        sq_dist = np.sum((X[:, None, :] - Y[None, :, :]) ** 2, axis=2)\n",
    "        return np.exp(-sq_dist / (2 * sigma ** 2))\n",
    "    return kernel\n",
    "\n",
    "# 2. 计算 MMD² 的函数，只需传入 kernel\n",
    "def compute_mmd(X: np.ndarray, Y: np.ndarray, kernel) -> float:\n",
    "    \"\"\"\n",
    "    计算两个样本 X, Y 之间的 MMD²（无偏估计量）。\n",
    "    \"\"\"\n",
    "    m = X.shape[0]\n",
    "    n = Y.shape[0]\n",
    "\n",
    "    K_XX = kernel(X, X)\n",
    "    K_YY = kernel(Y, Y)\n",
    "    K_XY = kernel(X, Y)\n",
    "\n",
    "    mmd2 = (np.sum(K_XX) / (m * m)\n",
    "            + np.sum(K_YY) / (n * n)\n",
    "            - 2 * np.sum(K_XY) / (m * n))\n",
    "    return mmd2\n",
    "\n",
    "\n",
    "# 3. permutation_test 接受 kernel，自动利用它生成 null 分布\n",
    "def permutation_test(\n",
    "    X: np.ndarray,\n",
    "    Y: np.ndarray,\n",
    "    kernel,\n",
    "    num_permutations: int = 500\n",
    ") -> float:\n",
    "    \"\"\"\n",
    "    对 H0: P=Q 进行置换检验，返回 p-value。\n",
    "    \"\"\"\n",
    "    observed_mmd = compute_mmd(X, Y, kernel)\n",
    "    combined = np.vstack((X, Y))\n",
    "    m = X.shape[0]\n",
    "\n",
    "    permuted_stats = []\n",
    "    for _ in range(num_permutations):\n",
    "        idx = np.random.permutation(combined.shape[0])\n",
    "        Xp = combined[idx[:m]]\n",
    "        Yp = combined[idx[m:]]\n",
    "        permuted_stats.append(compute_mmd(Xp, Yp, kernel))\n",
    "    permuted_stats = np.array(permuted_stats)\n",
    "    p_value = np.mean(permuted_stats >= observed_mmd)\n",
    "    return p_value, observed_mmd, permuted_stats\n",
    "\n",
    "\n",
    "\n",
    "# 4. 通用计算 MNIST 样本对 p 值矩阵\n",
    "def compute_mnist_matrix(sample_size: int, num_permutations: int, kernel) -> np.ndarray:\n",
    "    \"\"\"\n",
    "    分别从 digits 0-9 中随机抽取 sample_size 样本作为 X 与 Y，计算所有数字对 (i,j) 的 p 值矩阵。\n",
    "    显示计算进度。\n",
    "    \"\"\"\n",
    "    digits = load_digits()\n",
    "    X_all, y_all = digits.data, digits.target\n",
    "    p_mat = np.zeros((10, 10))\n",
    "    for i in tqdm(range(10), desc=f'Outer loop (digit i)'):\n",
    "        Xi = X_all[y_all == i]\n",
    "        for j in tqdm(range(10), desc=f'Inner loop (digit j)', leave=False):\n",
    "            if i == j:\n",
    "                idx_all = np.random.choice(len(Xi), sample_size*2, replace=False)\n",
    "                X = Xi[idx_all[:sample_size]]\n",
    "                Y = Xi[idx_all[sample_size:]]\n",
    "            else:\n",
    "                Xj = X_all[y_all == j]\n",
    "                idx_i = np.random.choice(len(Xi), sample_size, replace=False)\n",
    "                idx_j = np.random.choice(len(Xj), sample_size, replace=False)\n",
    "                X = Xi[idx_i]\n",
    "                Y = Xj[idx_j]\n",
    "            p_mat[i, j], observed_mmd, permuted_stats = permutation_test(X, Y, kernel, num_permutations)\n",
    "    return p_mat\n",
    "\n",
    "\n",
    "def plot_p_matrix(p_matrix: np.ndarray, title: str = \"Permutation Test p-values\") -> None:\n",
    "    \"\"\"\n",
    "    绘制 p 值热力图，支持单次和多次实验结果。\n",
    "    - 单次实验：p_matrix.shape = (10,10)，在每个格子显示“均值”。\n",
    "    - 多次实验：p_matrix.shape = (T,10,10)，在每个格子显示“mean\\n±std”。\n",
    "    \n",
    "    参数:\n",
    "        p_matrix (np.ndarray): shape=(10,10) 或 (T,10,10) 的 p 值矩阵或矩阵列表\n",
    "        title (str): 图表标题\n",
    "    返回:\n",
    "        fig, ax: Matplotlib Figure 和 Axes 对象\n",
    "    \"\"\"\n",
    "    # 判断输入维度\n",
    "    p_arr = np.array(p_matrix)\n",
    "    print(f\"p_arr.shape: {p_arr.shape}\")\n",
    "    if p_arr.ndim == 2:\n",
    "        # 单次实验\n",
    "        mean_mat = p_arr\n",
    "        std_mat = None\n",
    "    elif p_arr.ndim == 3:\n",
    "        # 多次实验\n",
    "        mean_mat = p_arr.mean(axis=0)\n",
    "        std_mat = p_arr.std(axis=0)\n",
    "    else:\n",
    "        raise ValueError(\"p_matrix must have shape (10,10) or (T,10,10)\")\n",
    "    \n",
    "    fig, ax = plt.subplots(figsize=(8, 6))\n",
    "    im = ax.imshow(mean_mat, interpolation='nearest', vmin=0, vmax=1)\n",
    "    \n",
    "    # 在每个格子上标注\n",
    "    for i in range(mean_mat.shape[0]):\n",
    "        for j in range(mean_mat.shape[1]):\n",
    "            m = mean_mat[i, j]\n",
    "            if std_mat is not None:\n",
    "                s = std_mat[i, j]\n",
    "                text = f\"{m:.2f}\\n±{s:.2f}\"\n",
    "            else:\n",
    "                text = f\"{m:.2f}\"\n",
    "            # 文本颜色根据 mean 值自动设定\n",
    "            color = 'white' if m < 0.5 else 'black'\n",
    "            ax.text(j, i, text, ha='center', va='center', color=color, fontsize=8)\n",
    "\n",
    "    # 色条\n",
    "    cbar = fig.colorbar(im, ax=ax)\n",
    "    cbar.set_label('Mean p-value')\n",
    "    # 坐标标签\n",
    "    ax.set_xticks(np.arange(mean_mat.shape[1]))\n",
    "    ax.set_yticks(np.arange(mean_mat.shape[0]))\n",
    "    ax.set_xlabel('Digit Y')\n",
    "    ax.set_ylabel('Digit X')\n",
    "    ax.set_title(title)\n",
    "    plt.tight_layout()\n",
    "    return fig, ax\n",
    "\n",
    "\n",
    "MAKE_KERNEL_FACTORIES = {\n",
    "    'linear': make_linear_kernel,\n",
    "    'polynomial': make_polynomial_kernel,\n",
    "    'sigmoid': make_sigmoid_kernel,\n",
    "    'laplacian': make_laplacian_kernel,\n",
    "    'matern32': make_matern32_kernel,\n",
    "    'rbf': make_rbf_kernel\n",
    "}\n"
   ]
  },
  {
   "cell_type": "markdown",
   "id": "9aa9f5d2",
   "metadata": {},
   "source": [
    "## Eval sigma"
   ]
  },
  {
   "cell_type": "code",
   "execution_count": null,
   "id": "20bcbcfd",
   "metadata": {},
   "outputs": [
    {
     "name": "stderr",
     "output_type": "stream",
     "text": [
      "Outer loop (digit i): 100%|██████████| 10/10 [00:26<00:00,  2.69s/it]\n"
     ]
    }
   ],
   "source": [
    "def summarize_sigmas(sigmas, sample_size, num_permutations, compute_mnist_matrix, alpha=0.05):\n",
    "    type1 = []\n",
    "    power  = []\n",
    "    p_mats = []\n",
    "    for sigma in sigmas:\n",
    "        kernel = make_rbf_kernel(sigma)\n",
    "        p_mat = compute_mnist_matrix(sample_size, num_permutations, kernel)\n",
    "\n",
    "        # 对角线：同分布情况，第一类错误率\n",
    "        diag_p = p_mat[np.arange(10), np.arange(10)]\n",
    "        type1.append(np.mean(diag_p < alpha))\n",
    "\n",
    "        # 非对角线：异分布情况，功效\n",
    "        off_p = p_mat[~np.eye(10, dtype=bool)]\n",
    "        power.append(np.mean(off_p < alpha))\n",
    "\n",
    "        p_mats.append(p_mat)\n",
    "\n",
    "    return np.array(type1), np.array(power), p_mats\n",
    "\n",
    "# 参数\n",
    "sigmas = [0.2, 0.5, 1.0, 2.0, 5.0, 10.0, 20.0, 50.0, 100.0, 200.0]\n",
    "# sigmas = [5.0]\n",
    "sample_size = 50\n",
    "num_permutations = 300\n",
    "\n",
    "# 计算\n",
    "type1_all, power_all, p_mats_all = summarize_sigmas(sigmas, sample_size, num_permutations, compute_mnist_matrix)\n"
   ]
  },
  {
   "cell_type": "code",
   "execution_count": null,
   "id": "70122a91",
   "metadata": {},
   "outputs": [
    {
     "data": {
      "image/png": "[encoded data removed]",
      "text/plain": [
       "<Figure size 800x600 with 2 Axes>"
      ]
     },
     "metadata": {},
     "output_type": "display_data"
    }
   ],
   "source": [
    "the_sigma = 5.0\n",
    "\n",
    "# sigmas, type1, power, p_mats 已由 summarize_sigmas 返回\n",
    "n_trials = len(p_mats_all)\n",
    "# 找到 sigma=the_sigma 在 sigmas 列表中的索引\n",
    "idx = sigmas.index(the_sigma)\n",
    "\n",
    "# 提取 10 次试验中对应 sigma=the_sigma 的 p_matrix\n",
    "p_list_sigma = [p_mats_all[t][idx] for t in range(n_trials)]\n",
    "# 堆叠为形状 (10,10,10) 的数组\n",
    "p_array_sigma = np.stack(p_list_sigma, axis=0)\n",
    "\n",
    "# 绘制热力图\n",
    "fig, ax = plot_p_matrix(\n",
    "    p_array_sigma,\n",
    "    title=\"Sigma = 5.0: 10 Trials p-values (mean ± std)\"\n",
    ")\n",
    "plt.show()"
   ]
  },
  {
   "cell_type": "code",
   "execution_count": null,
   "id": "18bc971c",
   "metadata": {},
   "outputs": [],
   "source": [
    "\n",
    "def summarize_sigmas(\n",
    "    sigmas,\n",
    "    sample_size,\n",
    "    num_permutations,\n",
    "    compute_mnist_matrix,\n",
    "    make_rbf_kernel,\n",
    "    n_trials=1,\n",
    "    alpha=0.05\n",
    "):\n",
    "    \"\"\"\n",
    "    对不同 σ 多次试验并返回每次试验的 Type I Error 和 Power，以及所有的 p 矩阵。\n",
    "    - sigmas: list of σ\n",
    "    - n_trials: 重复试验次数\n",
    "    返回:\n",
    "      type1: shape (n_trials, len(sigmas))\n",
    "      power: shape (n_trials, len(sigmas))\n",
    "      p_mats: list of list, p_mats[t][i] 对应第 t 次试验第 i 个 σ 的 p 矩阵\n",
    "    \"\"\"\n",
    "    sigmas = list(sigmas)\n",
    "    T = n_trials\n",
    "    S = len(sigmas)\n",
    "    type1 = np.zeros((T, S))\n",
    "    power = np.zeros((T, S))\n",
    "    p_mats = [[None] * S for _ in range(T)]\n",
    "\n",
    "    for t in range(T):\n",
    "        for i, sigma in enumerate(sigmas):\n",
    "            print(f\"Trial {t}, σ = {sigma:.2f}\")\n",
    "            kernel = make_rbf_kernel(sigma)\n",
    "            p_mat = compute_mnist_matrix(sample_size, num_permutations, kernel)\n",
    "            # 同分布 → Type I Error\n",
    "            diag_p = p_mat[np.arange(10), np.arange(10)]\n",
    "            type1[t, i] = np.mean(diag_p < alpha)\n",
    "            # 异分布 → Power\n",
    "            off_p = p_mat[~np.eye(10, dtype=bool)]\n",
    "            power[t, i] = np.mean(off_p < alpha)\n",
    "            p_mats[t][i] = p_mat\n",
    "\n",
    "    return type1, power, p_mats\n",
    "\n",
    "def plot_power_type1(sigmas, power, type1, alpha=0.05, xticks=None):\n",
    "    \"\"\"\n",
    "    如果 power 和 type1 是一维，则按单次试验画线；\n",
    "    如果是二维 (n_trials, len(sigmas))，则画均值曲线并填充 ±1 std 带。\n",
    "    \"\"\"\n",
    "    sigmas = np.array(sigmas)\n",
    "    power = np.array(power)\n",
    "    type1 = np.array(type1)\n",
    "    multi = (power.ndim == 2 and type1.ndim == 2)\n",
    "\n",
    "    if multi:\n",
    "        p_mean = power.mean(axis=0)\n",
    "        p_std = power.std(axis=0)\n",
    "        t_mean = type1.mean(axis=0)\n",
    "        t_std = type1.std(axis=0)\n",
    "    else:\n",
    "        p_mean = power\n",
    "        p_std = None\n",
    "        t_mean = type1\n",
    "        t_std = None\n",
    "\n",
    "    fig, ax = plt.subplots(figsize=(8, 5))\n",
    "    # Power\n",
    "    ax.plot(sigmas, p_mean, 'o-', label='Power', color='C0', markersize=6, linewidth=2)\n",
    "    if multi:\n",
    "        ax.fill_between(sigmas, p_mean - p_std, p_mean + p_std, color='C0', alpha=0.3)\n",
    "    # Type I Error\n",
    "    ax.plot(sigmas, t_mean, 's--', label='Type I Error', color='C1', markersize=6, linewidth=2)\n",
    "    if multi:\n",
    "        ax.fill_between(sigmas, t_mean - t_std, t_mean + t_std, color='C1', alpha=0.3)\n",
    "\n",
    "    # 对数横轴 & 刻度\n",
    "    ax.set_xscale('log')\n",
    "    if xticks is not None:\n",
    "        ax.set_xticks(xticks)\n",
    "    else:\n",
    "        ax.set_xticks(sigmas)\n",
    "    ax.set_xticklabels([str(s) for s in sigmas], fontsize=12)\n",
    "\n",
    "    # 显著性水平线 & 阴影\n",
    "    ax.axhline(alpha, color='gray', linestyle=':', linewidth=1.5, label=f'α = {alpha}')\n",
    "    ax.fill_between(sigmas, 0, alpha, color='gray', alpha=0.1)\n",
    "\n",
    "    # 网格\n",
    "    ax.grid(which='major', linestyle='--', linewidth=0.5, alpha=0.7)\n",
    "    ax.grid(which='minor', linestyle=':', linewidth=0.3, alpha=0.3)\n",
    "    ax.minorticks_on()\n",
    "\n",
    "    # 标签 & 标题\n",
    "    ax.set_xlabel('RBF Kernel σ', fontsize=14)\n",
    "    ax.set_ylabel('Rate', fontsize=14)\n",
    "    ax.set_title('Power & Type I Error vs. Kernel Bandwidth', fontsize=16)\n",
    "\n",
    "    # 图例\n",
    "    ax.legend(loc='upper left', fontsize=12, title='Metric', title_fontsize=13)\n",
    "\n",
    "    # # 注释最佳 σ\n",
    "    # best = sigmas[np.argmax(p_mean)]\n",
    "    # ax.annotate('Best σ', xy=(best, p_mean.max()),\n",
    "    #             xytext=(best, p_mean.max() - 0.15),\n",
    "    #             arrowprops=dict(arrowstyle='->'), fontsize=12)\n",
    "\n",
    "    plt.tight_layout()\n",
    "    return fig, ax"
   ]
  },
  {
   "cell_type": "code",
   "execution_count": 48,
   "id": "b76eefd5",
   "metadata": {},
   "outputs": [
    {
     "name": "stdout",
     "output_type": "stream",
     "text": [
      "Trial 0, σ = 0.20\n"
     ]
    },
    {
     "name": "stderr",
     "output_type": "stream",
     "text": [
      "Outer loop (digit i): 100%|██████████| 10/10 [00:33<00:00,  3.37s/it]\n"
     ]
    },
    {
     "name": "stdout",
     "output_type": "stream",
     "text": [
      "Trial 0, σ = 0.50\n"
     ]
    },
    {
     "name": "stderr",
     "output_type": "stream",
     "text": [
      "Outer loop (digit i): 100%|██████████| 10/10 [00:32<00:00,  3.29s/it]\n"
     ]
    },
    {
     "name": "stdout",
     "output_type": "stream",
     "text": [
      "Trial 0, σ = 1.00\n"
     ]
    },
    {
     "name": "stderr",
     "output_type": "stream",
     "text": [
      "Outer loop (digit i): 100%|██████████| 10/10 [00:32<00:00,  3.22s/it]\n"
     ]
    },
    {
     "name": "stdout",
     "output_type": "stream",
     "text": [
      "Trial 0, σ = 1.20\n"
     ]
    },
    {
     "name": "stderr",
     "output_type": "stream",
     "text": [
      "Outer loop (digit i): 100%|██████████| 10/10 [00:30<00:00,  3.07s/it]\n"
     ]
    },
    {
     "name": "stdout",
     "output_type": "stream",
     "text": [
      "Trial 0, σ = 1.40\n"
     ]
    },
    {
     "name": "stderr",
     "output_type": "stream",
     "text": [
      "Outer loop (digit i): 100%|██████████| 10/10 [00:28<00:00,  2.84s/it]\n"
     ]
    },
    {
     "name": "stdout",
     "output_type": "stream",
     "text": [
      "Trial 0, σ = 1.60\n"
     ]
    },
    {
     "name": "stderr",
     "output_type": "stream",
     "text": [
      "Outer loop (digit i): 100%|██████████| 10/10 [00:26<00:00,  2.66s/it]\n"
     ]
    },
    {
     "name": "stdout",
     "output_type": "stream",
     "text": [
      "Trial 0, σ = 1.80\n"
     ]
    },
    {
     "name": "stderr",
     "output_type": "stream",
     "text": [
      "Outer loop (digit i): 100%|██████████| 10/10 [00:26<00:00,  2.63s/it]\n"
     ]
    },
    {
     "name": "stdout",
     "output_type": "stream",
     "text": [
      "Trial 0, σ = 2.00\n"
     ]
    },
    {
     "name": "stderr",
     "output_type": "stream",
     "text": [
      "Outer loop (digit i): 100%|██████████| 10/10 [00:26<00:00,  2.69s/it]\n"
     ]
    },
    {
     "name": "stdout",
     "output_type": "stream",
     "text": [
      "Trial 0, σ = 5.00\n"
     ]
    },
    {
     "name": "stderr",
     "output_type": "stream",
     "text": [
      "Outer loop (digit i): 100%|██████████| 10/10 [00:30<00:00,  3.03s/it]\n"
     ]
    },
    {
     "name": "stdout",
     "output_type": "stream",
     "text": [
      "Trial 0, σ = 10.00\n"
     ]
    },
    {
     "name": "stderr",
     "output_type": "stream",
     "text": [
      "Outer loop (digit i): 100%|██████████| 10/10 [00:27<00:00,  2.77s/it]\n"
     ]
    },
    {
     "name": "stdout",
     "output_type": "stream",
     "text": [
      "Trial 0, σ = 20.00\n"
     ]
    },
    {
     "name": "stderr",
     "output_type": "stream",
     "text": [
      "Outer loop (digit i): 100%|██████████| 10/10 [00:30<00:00,  3.02s/it]\n"
     ]
    },
    {
     "name": "stdout",
     "output_type": "stream",
     "text": [
      "Trial 0, σ = 50.00\n"
     ]
    },
    {
     "name": "stderr",
     "output_type": "stream",
     "text": [
      "Outer loop (digit i): 100%|██████████| 10/10 [00:30<00:00,  3.02s/it]\n"
     ]
    },
    {
     "name": "stdout",
     "output_type": "stream",
     "text": [
      "Trial 0, σ = 100.00\n"
     ]
    },
    {
     "name": "stderr",
     "output_type": "stream",
     "text": [
      "Outer loop (digit i): 100%|██████████| 10/10 [00:28<00:00,  2.84s/it]\n"
     ]
    },
    {
     "name": "stdout",
     "output_type": "stream",
     "text": [
      "Trial 1, σ = 0.20\n"
     ]
    },
    {
     "name": "stderr",
     "output_type": "stream",
     "text": [
      "Outer loop (digit i): 100%|██████████| 10/10 [00:37<00:00,  3.72s/it]\n"
     ]
    },
    {
     "name": "stdout",
     "output_type": "stream",
     "text": [
      "Trial 1, σ = 0.50\n"
     ]
    },
    {
     "name": "stderr",
     "output_type": "stream",
     "text": [
      "Outer loop (digit i): 100%|██████████| 10/10 [00:36<00:00,  3.68s/it]\n"
     ]
    },
    {
     "name": "stdout",
     "output_type": "stream",
     "text": [
      "Trial 1, σ = 1.00\n"
     ]
    },
    {
     "name": "stderr",
     "output_type": "stream",
     "text": [
      "Outer loop (digit i): 100%|██████████| 10/10 [00:35<00:00,  3.52s/it]\n"
     ]
    },
    {
     "name": "stdout",
     "output_type": "stream",
     "text": [
      "Trial 1, σ = 1.20\n"
     ]
    },
    {
     "name": "stderr",
     "output_type": "stream",
     "text": [
      "Outer loop (digit i): 100%|██████████| 10/10 [00:34<00:00,  3.46s/it]\n"
     ]
    },
    {
     "name": "stdout",
     "output_type": "stream",
     "text": [
      "Trial 1, σ = 1.40\n"
     ]
    },
    {
     "name": "stderr",
     "output_type": "stream",
     "text": [
      "Outer loop (digit i): 100%|██████████| 10/10 [00:33<00:00,  3.38s/it]\n"
     ]
    },
    {
     "name": "stdout",
     "output_type": "stream",
     "text": [
      "Trial 1, σ = 1.60\n"
     ]
    },
    {
     "name": "stderr",
     "output_type": "stream",
     "text": [
      "Outer loop (digit i): 100%|██████████| 10/10 [00:28<00:00,  2.88s/it]\n"
     ]
    },
    {
     "name": "stdout",
     "output_type": "stream",
     "text": [
      "Trial 1, σ = 1.80\n"
     ]
    },
    {
     "name": "stderr",
     "output_type": "stream",
     "text": [
      "Outer loop (digit i): 100%|██████████| 10/10 [00:27<00:00,  2.76s/it]\n"
     ]
    },
    {
     "name": "stdout",
     "output_type": "stream",
     "text": [
      "Trial 1, σ = 2.00\n"
     ]
    },
    {
     "name": "stderr",
     "output_type": "stream",
     "text": [
      "Outer loop (digit i): 100%|██████████| 10/10 [00:28<00:00,  2.88s/it]\n"
     ]
    },
    {
     "name": "stdout",
     "output_type": "stream",
     "text": [
      "Trial 1, σ = 5.00\n"
     ]
    },
    {
     "name": "stderr",
     "output_type": "stream",
     "text": [
      "Outer loop (digit i): 100%|██████████| 10/10 [00:28<00:00,  2.88s/it]\n"
     ]
    },
    {
     "name": "stdout",
     "output_type": "stream",
     "text": [
      "Trial 1, σ = 10.00\n"
     ]
    },
    {
     "name": "stderr",
     "output_type": "stream",
     "text": [
      "Outer loop (digit i): 100%|██████████| 10/10 [00:30<00:00,  3.09s/it]\n"
     ]
    },
    {
     "name": "stdout",
     "output_type": "stream",
     "text": [
      "Trial 1, σ = 20.00\n"
     ]
    },
    {
     "name": "stderr",
     "output_type": "stream",
     "text": [
      "Outer loop (digit i): 100%|██████████| 10/10 [00:30<00:00,  3.03s/it]\n"
     ]
    },
    {
     "name": "stdout",
     "output_type": "stream",
     "text": [
      "Trial 1, σ = 50.00\n"
     ]
    },
    {
     "name": "stderr",
     "output_type": "stream",
     "text": [
      "Outer loop (digit i): 100%|██████████| 10/10 [00:29<00:00,  2.96s/it]\n"
     ]
    },
    {
     "name": "stdout",
     "output_type": "stream",
     "text": [
      "Trial 1, σ = 100.00\n"
     ]
    },
    {
     "name": "stderr",
     "output_type": "stream",
     "text": [
      "Outer loop (digit i): 100%|██████████| 10/10 [00:29<00:00,  3.00s/it]\n"
     ]
    },
    {
     "name": "stdout",
     "output_type": "stream",
     "text": [
      "Trial 2, σ = 0.20\n"
     ]
    },
    {
     "name": "stderr",
     "output_type": "stream",
     "text": [
      "Outer loop (digit i): 100%|██████████| 10/10 [00:37<00:00,  3.79s/it]\n"
     ]
    },
    {
     "name": "stdout",
     "output_type": "stream",
     "text": [
      "Trial 2, σ = 0.50\n"
     ]
    },
    {
     "name": "stderr",
     "output_type": "stream",
     "text": [
      "Outer loop (digit i): 100%|██████████| 10/10 [00:35<00:00,  3.58s/it]\n"
     ]
    },
    {
     "name": "stdout",
     "output_type": "stream",
     "text": [
      "Trial 2, σ = 1.00\n"
     ]
    },
    {
     "name": "stderr",
     "output_type": "stream",
     "text": [
      "Outer loop (digit i): 100%|██████████| 10/10 [00:34<00:00,  3.47s/it]\n"
     ]
    },
    {
     "name": "stdout",
     "output_type": "stream",
     "text": [
      "Trial 2, σ = 1.20\n"
     ]
    },
    {
     "name": "stderr",
     "output_type": "stream",
     "text": [
      "Outer loop (digit i): 100%|██████████| 10/10 [00:33<00:00,  3.36s/it]\n"
     ]
    },
    {
     "name": "stdout",
     "output_type": "stream",
     "text": [
      "Trial 2, σ = 1.40\n"
     ]
    },
    {
     "name": "stderr",
     "output_type": "stream",
     "text": [
      "Outer loop (digit i): 100%|██████████| 10/10 [00:31<00:00,  3.11s/it]\n"
     ]
    },
    {
     "name": "stdout",
     "output_type": "stream",
     "text": [
      "Trial 2, σ = 1.60\n"
     ]
    },
    {
     "name": "stderr",
     "output_type": "stream",
     "text": [
      "Outer loop (digit i): 100%|██████████| 10/10 [00:27<00:00,  2.74s/it]\n"
     ]
    },
    {
     "name": "stdout",
     "output_type": "stream",
     "text": [
      "Trial 2, σ = 1.80\n"
     ]
    },
    {
     "name": "stderr",
     "output_type": "stream",
     "text": [
      "Outer loop (digit i): 100%|██████████| 10/10 [00:27<00:00,  2.76s/it]\n"
     ]
    },
    {
     "name": "stdout",
     "output_type": "stream",
     "text": [
      "Trial 2, σ = 2.00\n"
     ]
    },
    {
     "name": "stderr",
     "output_type": "stream",
     "text": [
      "Outer loop (digit i): 100%|██████████| 10/10 [00:27<00:00,  2.72s/it]\n"
     ]
    },
    {
     "name": "stdout",
     "output_type": "stream",
     "text": [
      "Trial 2, σ = 5.00\n"
     ]
    },
    {
     "name": "stderr",
     "output_type": "stream",
     "text": [
      "Outer loop (digit i): 100%|██████████| 10/10 [00:27<00:00,  2.75s/it]\n"
     ]
    },
    {
     "name": "stdout",
     "output_type": "stream",
     "text": [
      "Trial 2, σ = 10.00\n"
     ]
    },
    {
     "name": "stderr",
     "output_type": "stream",
     "text": [
      "Outer loop (digit i): 100%|██████████| 10/10 [00:26<00:00,  2.68s/it]\n"
     ]
    },
    {
     "name": "stdout",
     "output_type": "stream",
     "text": [
      "Trial 2, σ = 20.00\n"
     ]
    },
    {
     "name": "stderr",
     "output_type": "stream",
     "text": [
      "Outer loop (digit i): 100%|██████████| 10/10 [00:26<00:00,  2.69s/it]\n"
     ]
    },
    {
     "name": "stdout",
     "output_type": "stream",
     "text": [
      "Trial 2, σ = 50.00\n"
     ]
    },
    {
     "name": "stderr",
     "output_type": "stream",
     "text": [
      "Outer loop (digit i): 100%|██████████| 10/10 [00:27<00:00,  2.72s/it]\n"
     ]
    },
    {
     "name": "stdout",
     "output_type": "stream",
     "text": [
      "Trial 2, σ = 100.00\n"
     ]
    },
    {
     "name": "stderr",
     "output_type": "stream",
     "text": [
      "Outer loop (digit i): 100%|██████████| 10/10 [00:27<00:00,  2.71s/it]\n"
     ]
    },
    {
     "name": "stdout",
     "output_type": "stream",
     "text": [
      "Trial 3, σ = 0.20\n"
     ]
    },
    {
     "name": "stderr",
     "output_type": "stream",
     "text": [
      "Outer loop (digit i): 100%|██████████| 10/10 [00:35<00:00,  3.54s/it]\n"
     ]
    },
    {
     "name": "stdout",
     "output_type": "stream",
     "text": [
      "Trial 3, σ = 0.50\n"
     ]
    },
    {
     "name": "stderr",
     "output_type": "stream",
     "text": [
      "Outer loop (digit i): 100%|██████████| 10/10 [00:37<00:00,  3.77s/it]\n"
     ]
    },
    {
     "name": "stdout",
     "output_type": "stream",
     "text": [
      "Trial 3, σ = 1.00\n"
     ]
    },
    {
     "name": "stderr",
     "output_type": "stream",
     "text": [
      "Outer loop (digit i): 100%|██████████| 10/10 [00:33<00:00,  3.36s/it]\n"
     ]
    },
    {
     "name": "stdout",
     "output_type": "stream",
     "text": [
      "Trial 3, σ = 1.20\n"
     ]
    },
    {
     "name": "stderr",
     "output_type": "stream",
     "text": [
      "Outer loop (digit i): 100%|██████████| 10/10 [00:31<00:00,  3.10s/it]\n"
     ]
    },
    {
     "name": "stdout",
     "output_type": "stream",
     "text": [
      "Trial 3, σ = 1.40\n"
     ]
    },
    {
     "name": "stderr",
     "output_type": "stream",
     "text": [
      "Outer loop (digit i): 100%|██████████| 10/10 [00:29<00:00,  2.92s/it]\n"
     ]
    },
    {
     "name": "stdout",
     "output_type": "stream",
     "text": [
      "Trial 3, σ = 1.60\n"
     ]
    },
    {
     "name": "stderr",
     "output_type": "stream",
     "text": [
      "Outer loop (digit i): 100%|██████████| 10/10 [00:27<00:00,  2.72s/it]\n"
     ]
    },
    {
     "name": "stdout",
     "output_type": "stream",
     "text": [
      "Trial 3, σ = 1.80\n"
     ]
    },
    {
     "name": "stderr",
     "output_type": "stream",
     "text": [
      "Outer loop (digit i): 100%|██████████| 10/10 [00:27<00:00,  2.73s/it]\n"
     ]
    },
    {
     "name": "stdout",
     "output_type": "stream",
     "text": [
      "Trial 3, σ = 2.00\n"
     ]
    },
    {
     "name": "stderr",
     "output_type": "stream",
     "text": [
      "Outer loop (digit i): 100%|██████████| 10/10 [00:27<00:00,  2.74s/it]\n"
     ]
    },
    {
     "name": "stdout",
     "output_type": "stream",
     "text": [
      "Trial 3, σ = 5.00\n"
     ]
    },
    {
     "name": "stderr",
     "output_type": "stream",
     "text": [
      "Outer loop (digit i): 100%|██████████| 10/10 [00:27<00:00,  2.72s/it]\n"
     ]
    },
    {
     "name": "stdout",
     "output_type": "stream",
     "text": [
      "Trial 3, σ = 10.00\n"
     ]
    },
    {
     "name": "stderr",
     "output_type": "stream",
     "text": [
      "Outer loop (digit i): 100%|██████████| 10/10 [00:27<00:00,  2.74s/it]\n"
     ]
    },
    {
     "name": "stdout",
     "output_type": "stream",
     "text": [
      "Trial 3, σ = 20.00\n"
     ]
    },
    {
     "name": "stderr",
     "output_type": "stream",
     "text": [
      "Outer loop (digit i): 100%|██████████| 10/10 [00:26<00:00,  2.69s/it]\n"
     ]
    },
    {
     "name": "stdout",
     "output_type": "stream",
     "text": [
      "Trial 3, σ = 50.00\n"
     ]
    },
    {
     "name": "stderr",
     "output_type": "stream",
     "text": [
      "Outer loop (digit i): 100%|██████████| 10/10 [00:27<00:00,  2.77s/it]\n"
     ]
    },
    {
     "name": "stdout",
     "output_type": "stream",
     "text": [
      "Trial 3, σ = 100.00\n"
     ]
    },
    {
     "name": "stderr",
     "output_type": "stream",
     "text": [
      "Outer loop (digit i): 100%|██████████| 10/10 [00:27<00:00,  2.76s/it]\n"
     ]
    },
    {
     "name": "stdout",
     "output_type": "stream",
     "text": [
      "Trial 4, σ = 0.20\n"
     ]
    },
    {
     "name": "stderr",
     "output_type": "stream",
     "text": [
      "Outer loop (digit i): 100%|██████████| 10/10 [00:35<00:00,  3.51s/it]\n"
     ]
    },
    {
     "name": "stdout",
     "output_type": "stream",
     "text": [
      "Trial 4, σ = 0.50\n"
     ]
    },
    {
     "name": "stderr",
     "output_type": "stream",
     "text": [
      "Outer loop (digit i): 100%|██████████| 10/10 [00:34<00:00,  3.48s/it]\n"
     ]
    },
    {
     "name": "stdout",
     "output_type": "stream",
     "text": [
      "Trial 4, σ = 1.00\n"
     ]
    },
    {
     "name": "stderr",
     "output_type": "stream",
     "text": [
      "Outer loop (digit i): 100%|██████████| 10/10 [00:33<00:00,  3.33s/it]\n"
     ]
    },
    {
     "name": "stdout",
     "output_type": "stream",
     "text": [
      "Trial 4, σ = 1.20\n"
     ]
    },
    {
     "name": "stderr",
     "output_type": "stream",
     "text": [
      "Outer loop (digit i): 100%|██████████| 10/10 [00:31<00:00,  3.12s/it]\n"
     ]
    },
    {
     "name": "stdout",
     "output_type": "stream",
     "text": [
      "Trial 4, σ = 1.40\n"
     ]
    },
    {
     "name": "stderr",
     "output_type": "stream",
     "text": [
      "Outer loop (digit i): 100%|██████████| 10/10 [00:29<00:00,  2.93s/it]\n"
     ]
    },
    {
     "name": "stdout",
     "output_type": "stream",
     "text": [
      "Trial 4, σ = 1.60\n"
     ]
    },
    {
     "name": "stderr",
     "output_type": "stream",
     "text": [
      "Outer loop (digit i): 100%|██████████| 10/10 [00:27<00:00,  2.75s/it]\n"
     ]
    },
    {
     "name": "stdout",
     "output_type": "stream",
     "text": [
      "Trial 4, σ = 1.80\n"
     ]
    },
    {
     "name": "stderr",
     "output_type": "stream",
     "text": [
      "Outer loop (digit i): 100%|██████████| 10/10 [00:27<00:00,  2.74s/it]\n"
     ]
    },
    {
     "name": "stdout",
     "output_type": "stream",
     "text": [
      "Trial 4, σ = 2.00\n"
     ]
    },
    {
     "name": "stderr",
     "output_type": "stream",
     "text": [
      "Outer loop (digit i): 100%|██████████| 10/10 [00:27<00:00,  2.74s/it]\n"
     ]
    },
    {
     "name": "stdout",
     "output_type": "stream",
     "text": [
      "Trial 4, σ = 5.00\n"
     ]
    },
    {
     "name": "stderr",
     "output_type": "stream",
     "text": [
      "Outer loop (digit i): 100%|██████████| 10/10 [00:27<00:00,  2.78s/it]\n"
     ]
    },
    {
     "name": "stdout",
     "output_type": "stream",
     "text": [
      "Trial 4, σ = 10.00\n"
     ]
    },
    {
     "name": "stderr",
     "output_type": "stream",
     "text": [
      "Outer loop (digit i): 100%|██████████| 10/10 [00:27<00:00,  2.70s/it]\n"
     ]
    },
    {
     "name": "stdout",
     "output_type": "stream",
     "text": [
      "Trial 4, σ = 20.00\n"
     ]
    },
    {
     "name": "stderr",
     "output_type": "stream",
     "text": [
      "Outer loop (digit i): 100%|██████████| 10/10 [00:26<00:00,  2.68s/it]\n"
     ]
    },
    {
     "name": "stdout",
     "output_type": "stream",
     "text": [
      "Trial 4, σ = 50.00\n"
     ]
    },
    {
     "name": "stderr",
     "output_type": "stream",
     "text": [
      "Outer loop (digit i): 100%|██████████| 10/10 [00:27<00:00,  2.72s/it]\n"
     ]
    },
    {
     "name": "stdout",
     "output_type": "stream",
     "text": [
      "Trial 4, σ = 100.00\n"
     ]
    },
    {
     "name": "stderr",
     "output_type": "stream",
     "text": [
      "Outer loop (digit i): 100%|██████████| 10/10 [00:27<00:00,  2.79s/it]\n"
     ]
    },
    {
     "name": "stdout",
     "output_type": "stream",
     "text": [
      "Trial 5, σ = 0.20\n"
     ]
    },
    {
     "name": "stderr",
     "output_type": "stream",
     "text": [
      "Outer loop (digit i): 100%|██████████| 10/10 [00:35<00:00,  3.53s/it]\n"
     ]
    },
    {
     "name": "stdout",
     "output_type": "stream",
     "text": [
      "Trial 5, σ = 0.50\n"
     ]
    },
    {
     "name": "stderr",
     "output_type": "stream",
     "text": [
      "Outer loop (digit i): 100%|██████████| 10/10 [00:34<00:00,  3.43s/it]\n"
     ]
    },
    {
     "name": "stdout",
     "output_type": "stream",
     "text": [
      "Trial 5, σ = 1.00\n"
     ]
    },
    {
     "name": "stderr",
     "output_type": "stream",
     "text": [
      "Outer loop (digit i): 100%|██████████| 10/10 [00:33<00:00,  3.33s/it]\n"
     ]
    },
    {
     "name": "stdout",
     "output_type": "stream",
     "text": [
      "Trial 5, σ = 1.20\n"
     ]
    },
    {
     "name": "stderr",
     "output_type": "stream",
     "text": [
      "Outer loop (digit i): 100%|██████████| 10/10 [00:31<00:00,  3.20s/it]\n"
     ]
    },
    {
     "name": "stdout",
     "output_type": "stream",
     "text": [
      "Trial 5, σ = 1.40\n"
     ]
    },
    {
     "name": "stderr",
     "output_type": "stream",
     "text": [
      "Outer loop (digit i): 100%|██████████| 10/10 [00:29<00:00,  2.95s/it]\n"
     ]
    },
    {
     "name": "stdout",
     "output_type": "stream",
     "text": [
      "Trial 5, σ = 1.60\n"
     ]
    },
    {
     "name": "stderr",
     "output_type": "stream",
     "text": [
      "Outer loop (digit i): 100%|██████████| 10/10 [00:27<00:00,  2.73s/it]\n"
     ]
    },
    {
     "name": "stdout",
     "output_type": "stream",
     "text": [
      "Trial 5, σ = 1.80\n"
     ]
    },
    {
     "name": "stderr",
     "output_type": "stream",
     "text": [
      "Outer loop (digit i): 100%|██████████| 10/10 [00:27<00:00,  2.73s/it]\n"
     ]
    },
    {
     "name": "stdout",
     "output_type": "stream",
     "text": [
      "Trial 5, σ = 2.00\n"
     ]
    },
    {
     "name": "stderr",
     "output_type": "stream",
     "text": [
      "Outer loop (digit i): 100%|██████████| 10/10 [00:26<00:00,  2.68s/it]\n"
     ]
    },
    {
     "name": "stdout",
     "output_type": "stream",
     "text": [
      "Trial 5, σ = 5.00\n"
     ]
    },
    {
     "name": "stderr",
     "output_type": "stream",
     "text": [
      "Outer loop (digit i): 100%|██████████| 10/10 [00:26<00:00,  2.69s/it]\n"
     ]
    },
    {
     "name": "stdout",
     "output_type": "stream",
     "text": [
      "Trial 5, σ = 10.00\n"
     ]
    },
    {
     "name": "stderr",
     "output_type": "stream",
     "text": [
      "Outer loop (digit i): 100%|██████████| 10/10 [00:26<00:00,  2.70s/it]\n"
     ]
    },
    {
     "name": "stdout",
     "output_type": "stream",
     "text": [
      "Trial 5, σ = 20.00\n"
     ]
    },
    {
     "name": "stderr",
     "output_type": "stream",
     "text": [
      "Outer loop (digit i): 100%|██████████| 10/10 [00:27<00:00,  2.75s/it]\n"
     ]
    },
    {
     "name": "stdout",
     "output_type": "stream",
     "text": [
      "Trial 5, σ = 50.00\n"
     ]
    },
    {
     "name": "stderr",
     "output_type": "stream",
     "text": [
      "Outer loop (digit i): 100%|██████████| 10/10 [00:27<00:00,  2.73s/it]\n"
     ]
    },
    {
     "name": "stdout",
     "output_type": "stream",
     "text": [
      "Trial 5, σ = 100.00\n"
     ]
    },
    {
     "name": "stderr",
     "output_type": "stream",
     "text": [
      "Outer loop (digit i): 100%|██████████| 10/10 [00:27<00:00,  2.72s/it]\n"
     ]
    },
    {
     "name": "stdout",
     "output_type": "stream",
     "text": [
      "Trial 6, σ = 0.20\n"
     ]
    },
    {
     "name": "stderr",
     "output_type": "stream",
     "text": [
      "Outer loop (digit i): 100%|██████████| 10/10 [00:35<00:00,  3.51s/it]\n"
     ]
    },
    {
     "name": "stdout",
     "output_type": "stream",
     "text": [
      "Trial 6, σ = 0.50\n"
     ]
    },
    {
     "name": "stderr",
     "output_type": "stream",
     "text": [
      "Outer loop (digit i): 100%|██████████| 10/10 [00:35<00:00,  3.57s/it]\n"
     ]
    },
    {
     "name": "stdout",
     "output_type": "stream",
     "text": [
      "Trial 6, σ = 1.00\n"
     ]
    },
    {
     "name": "stderr",
     "output_type": "stream",
     "text": [
      "Outer loop (digit i): 100%|██████████| 10/10 [00:33<00:00,  3.34s/it]\n"
     ]
    },
    {
     "name": "stdout",
     "output_type": "stream",
     "text": [
      "Trial 6, σ = 1.20\n"
     ]
    },
    {
     "name": "stderr",
     "output_type": "stream",
     "text": [
      "Outer loop (digit i): 100%|██████████| 10/10 [00:31<00:00,  3.17s/it]\n"
     ]
    },
    {
     "name": "stdout",
     "output_type": "stream",
     "text": [
      "Trial 6, σ = 1.40\n"
     ]
    },
    {
     "name": "stderr",
     "output_type": "stream",
     "text": [
      "Outer loop (digit i): 100%|██████████| 10/10 [00:29<00:00,  2.92s/it]\n"
     ]
    },
    {
     "name": "stdout",
     "output_type": "stream",
     "text": [
      "Trial 6, σ = 1.60\n"
     ]
    },
    {
     "name": "stderr",
     "output_type": "stream",
     "text": [
      "Outer loop (digit i): 100%|██████████| 10/10 [00:28<00:00,  2.83s/it]\n"
     ]
    },
    {
     "name": "stdout",
     "output_type": "stream",
     "text": [
      "Trial 6, σ = 1.80\n"
     ]
    },
    {
     "name": "stderr",
     "output_type": "stream",
     "text": [
      "Outer loop (digit i): 100%|██████████| 10/10 [00:27<00:00,  2.77s/it]\n"
     ]
    },
    {
     "name": "stdout",
     "output_type": "stream",
     "text": [
      "Trial 6, σ = 2.00\n"
     ]
    },
    {
     "name": "stderr",
     "output_type": "stream",
     "text": [
      "Outer loop (digit i): 100%|██████████| 10/10 [00:27<00:00,  2.73s/it]\n"
     ]
    },
    {
     "name": "stdout",
     "output_type": "stream",
     "text": [
      "Trial 6, σ = 5.00\n"
     ]
    },
    {
     "name": "stderr",
     "output_type": "stream",
     "text": [
      "Outer loop (digit i): 100%|██████████| 10/10 [00:27<00:00,  2.77s/it]\n"
     ]
    },
    {
     "name": "stdout",
     "output_type": "stream",
     "text": [
      "Trial 6, σ = 10.00\n"
     ]
    },
    {
     "name": "stderr",
     "output_type": "stream",
     "text": [
      "Outer loop (digit i): 100%|██████████| 10/10 [00:27<00:00,  2.72s/it]\n"
     ]
    },
    {
     "name": "stdout",
     "output_type": "stream",
     "text": [
      "Trial 6, σ = 20.00\n"
     ]
    },
    {
     "name": "stderr",
     "output_type": "stream",
     "text": [
      "Outer loop (digit i): 100%|██████████| 10/10 [00:27<00:00,  2.71s/it]\n"
     ]
    },
    {
     "name": "stdout",
     "output_type": "stream",
     "text": [
      "Trial 6, σ = 50.00\n"
     ]
    },
    {
     "name": "stderr",
     "output_type": "stream",
     "text": [
      "Outer loop (digit i): 100%|██████████| 10/10 [00:26<00:00,  2.69s/it]\n"
     ]
    },
    {
     "name": "stdout",
     "output_type": "stream",
     "text": [
      "Trial 6, σ = 100.00\n"
     ]
    },
    {
     "name": "stderr",
     "output_type": "stream",
     "text": [
      "Outer loop (digit i): 100%|██████████| 10/10 [00:27<00:00,  2.73s/it]\n"
     ]
    },
    {
     "name": "stdout",
     "output_type": "stream",
     "text": [
      "Trial 7, σ = 0.20\n"
     ]
    },
    {
     "name": "stderr",
     "output_type": "stream",
     "text": [
      "Outer loop (digit i): 100%|██████████| 10/10 [00:35<00:00,  3.53s/it]\n"
     ]
    },
    {
     "name": "stdout",
     "output_type": "stream",
     "text": [
      "Trial 7, σ = 0.50\n"
     ]
    },
    {
     "name": "stderr",
     "output_type": "stream",
     "text": [
      "Outer loop (digit i): 100%|██████████| 10/10 [00:35<00:00,  3.55s/it]\n"
     ]
    },
    {
     "name": "stdout",
     "output_type": "stream",
     "text": [
      "Trial 7, σ = 1.00\n"
     ]
    },
    {
     "name": "stderr",
     "output_type": "stream",
     "text": [
      "Outer loop (digit i): 100%|██████████| 10/10 [00:33<00:00,  3.40s/it]\n"
     ]
    },
    {
     "name": "stdout",
     "output_type": "stream",
     "text": [
      "Trial 7, σ = 1.20\n"
     ]
    },
    {
     "name": "stderr",
     "output_type": "stream",
     "text": [
      "Outer loop (digit i): 100%|██████████| 10/10 [00:31<00:00,  3.17s/it]\n"
     ]
    },
    {
     "name": "stdout",
     "output_type": "stream",
     "text": [
      "Trial 7, σ = 1.40\n"
     ]
    },
    {
     "name": "stderr",
     "output_type": "stream",
     "text": [
      "Outer loop (digit i): 100%|██████████| 10/10 [00:29<00:00,  2.94s/it]\n"
     ]
    },
    {
     "name": "stdout",
     "output_type": "stream",
     "text": [
      "Trial 7, σ = 1.60\n"
     ]
    },
    {
     "name": "stderr",
     "output_type": "stream",
     "text": [
      "Outer loop (digit i): 100%|██████████| 10/10 [00:28<00:00,  2.83s/it]\n"
     ]
    },
    {
     "name": "stdout",
     "output_type": "stream",
     "text": [
      "Trial 7, σ = 1.80\n"
     ]
    },
    {
     "name": "stderr",
     "output_type": "stream",
     "text": [
      "Outer loop (digit i): 100%|██████████| 10/10 [00:27<00:00,  2.74s/it]\n"
     ]
    },
    {
     "name": "stdout",
     "output_type": "stream",
     "text": [
      "Trial 7, σ = 2.00\n"
     ]
    },
    {
     "name": "stderr",
     "output_type": "stream",
     "text": [
      "Outer loop (digit i): 100%|██████████| 10/10 [00:27<00:00,  2.74s/it]\n"
     ]
    },
    {
     "name": "stdout",
     "output_type": "stream",
     "text": [
      "Trial 7, σ = 5.00\n"
     ]
    },
    {
     "name": "stderr",
     "output_type": "stream",
     "text": [
      "Outer loop (digit i): 100%|██████████| 10/10 [00:27<00:00,  2.79s/it]\n"
     ]
    },
    {
     "name": "stdout",
     "output_type": "stream",
     "text": [
      "Trial 7, σ = 10.00\n"
     ]
    },
    {
     "name": "stderr",
     "output_type": "stream",
     "text": [
      "Outer loop (digit i): 100%|██████████| 10/10 [00:27<00:00,  2.78s/it]\n"
     ]
    },
    {
     "name": "stdout",
     "output_type": "stream",
     "text": [
      "Trial 7, σ = 20.00\n"
     ]
    },
    {
     "name": "stderr",
     "output_type": "stream",
     "text": [
      "Outer loop (digit i): 100%|██████████| 10/10 [00:27<00:00,  2.76s/it]\n"
     ]
    },
    {
     "name": "stdout",
     "output_type": "stream",
     "text": [
      "Trial 7, σ = 50.00\n"
     ]
    },
    {
     "name": "stderr",
     "output_type": "stream",
     "text": [
      "Outer loop (digit i): 100%|██████████| 10/10 [00:27<00:00,  2.76s/it]\n"
     ]
    },
    {
     "name": "stdout",
     "output_type": "stream",
     "text": [
      "Trial 7, σ = 100.00\n"
     ]
    },
    {
     "name": "stderr",
     "output_type": "stream",
     "text": [
      "Outer loop (digit i): 100%|██████████| 10/10 [00:27<00:00,  2.74s/it]\n"
     ]
    },
    {
     "name": "stdout",
     "output_type": "stream",
     "text": [
      "Trial 8, σ = 0.20\n"
     ]
    },
    {
     "name": "stderr",
     "output_type": "stream",
     "text": [
      "Outer loop (digit i): 100%|██████████| 10/10 [00:34<00:00,  3.50s/it]\n"
     ]
    },
    {
     "name": "stdout",
     "output_type": "stream",
     "text": [
      "Trial 8, σ = 0.50\n"
     ]
    },
    {
     "name": "stderr",
     "output_type": "stream",
     "text": [
      "Outer loop (digit i): 100%|██████████| 10/10 [00:35<00:00,  3.56s/it]\n"
     ]
    },
    {
     "name": "stdout",
     "output_type": "stream",
     "text": [
      "Trial 8, σ = 1.00\n"
     ]
    },
    {
     "name": "stderr",
     "output_type": "stream",
     "text": [
      "Outer loop (digit i): 100%|██████████| 10/10 [00:33<00:00,  3.38s/it]\n"
     ]
    },
    {
     "name": "stdout",
     "output_type": "stream",
     "text": [
      "Trial 8, σ = 1.20\n"
     ]
    },
    {
     "name": "stderr",
     "output_type": "stream",
     "text": [
      "Outer loop (digit i): 100%|██████████| 10/10 [00:32<00:00,  3.22s/it]\n"
     ]
    },
    {
     "name": "stdout",
     "output_type": "stream",
     "text": [
      "Trial 8, σ = 1.40\n"
     ]
    },
    {
     "name": "stderr",
     "output_type": "stream",
     "text": [
      "Outer loop (digit i): 100%|██████████| 10/10 [00:29<00:00,  2.93s/it]\n"
     ]
    },
    {
     "name": "stdout",
     "output_type": "stream",
     "text": [
      "Trial 8, σ = 1.60\n"
     ]
    },
    {
     "name": "stderr",
     "output_type": "stream",
     "text": [
      "Outer loop (digit i): 100%|██████████| 10/10 [00:27<00:00,  2.80s/it]\n"
     ]
    },
    {
     "name": "stdout",
     "output_type": "stream",
     "text": [
      "Trial 8, σ = 1.80\n"
     ]
    },
    {
     "name": "stderr",
     "output_type": "stream",
     "text": [
      "Outer loop (digit i): 100%|██████████| 10/10 [00:27<00:00,  2.76s/it]\n"
     ]
    },
    {
     "name": "stdout",
     "output_type": "stream",
     "text": [
      "Trial 8, σ = 2.00\n"
     ]
    },
    {
     "name": "stderr",
     "output_type": "stream",
     "text": [
      "Outer loop (digit i): 100%|██████████| 10/10 [00:31<00:00,  3.12s/it]\n"
     ]
    },
    {
     "name": "stdout",
     "output_type": "stream",
     "text": [
      "Trial 8, σ = 5.00\n"
     ]
    },
    {
     "name": "stderr",
     "output_type": "stream",
     "text": [
      "Outer loop (digit i): 100%|██████████| 10/10 [00:29<00:00,  2.93s/it]\n"
     ]
    },
    {
     "name": "stdout",
     "output_type": "stream",
     "text": [
      "Trial 8, σ = 10.00\n"
     ]
    },
    {
     "name": "stderr",
     "output_type": "stream",
     "text": [
      "Outer loop (digit i): 100%|██████████| 10/10 [00:27<00:00,  2.76s/it]\n"
     ]
    },
    {
     "name": "stdout",
     "output_type": "stream",
     "text": [
      "Trial 8, σ = 20.00\n"
     ]
    },
    {
     "name": "stderr",
     "output_type": "stream",
     "text": [
      "Outer loop (digit i): 100%|██████████| 10/10 [00:27<00:00,  2.74s/it]\n"
     ]
    },
    {
     "name": "stdout",
     "output_type": "stream",
     "text": [
      "Trial 8, σ = 50.00\n"
     ]
    },
    {
     "name": "stderr",
     "output_type": "stream",
     "text": [
      "Outer loop (digit i): 100%|██████████| 10/10 [00:27<00:00,  2.75s/it]\n"
     ]
    },
    {
     "name": "stdout",
     "output_type": "stream",
     "text": [
      "Trial 8, σ = 100.00\n"
     ]
    },
    {
     "name": "stderr",
     "output_type": "stream",
     "text": [
      "Outer loop (digit i): 100%|██████████| 10/10 [00:26<00:00,  2.68s/it]\n"
     ]
    },
    {
     "name": "stdout",
     "output_type": "stream",
     "text": [
      "Trial 9, σ = 0.20\n"
     ]
    },
    {
     "name": "stderr",
     "output_type": "stream",
     "text": [
      "Outer loop (digit i): 100%|██████████| 10/10 [00:35<00:00,  3.56s/it]\n"
     ]
    },
    {
     "name": "stdout",
     "output_type": "stream",
     "text": [
      "Trial 9, σ = 0.50\n"
     ]
    },
    {
     "name": "stderr",
     "output_type": "stream",
     "text": [
      "Outer loop (digit i): 100%|██████████| 10/10 [00:35<00:00,  3.55s/it]\n"
     ]
    },
    {
     "name": "stdout",
     "output_type": "stream",
     "text": [
      "Trial 9, σ = 1.00\n"
     ]
    },
    {
     "name": "stderr",
     "output_type": "stream",
     "text": [
      "Outer loop (digit i): 100%|██████████| 10/10 [00:33<00:00,  3.40s/it]\n"
     ]
    },
    {
     "name": "stdout",
     "output_type": "stream",
     "text": [
      "Trial 9, σ = 1.20\n"
     ]
    },
    {
     "name": "stderr",
     "output_type": "stream",
     "text": [
      "Outer loop (digit i): 100%|██████████| 10/10 [00:31<00:00,  3.13s/it]\n"
     ]
    },
    {
     "name": "stdout",
     "output_type": "stream",
     "text": [
      "Trial 9, σ = 1.40\n"
     ]
    },
    {
     "name": "stderr",
     "output_type": "stream",
     "text": [
      "Outer loop (digit i): 100%|██████████| 10/10 [00:29<00:00,  2.96s/it]\n"
     ]
    },
    {
     "name": "stdout",
     "output_type": "stream",
     "text": [
      "Trial 9, σ = 1.60\n"
     ]
    },
    {
     "name": "stderr",
     "output_type": "stream",
     "text": [
      "Outer loop (digit i): 100%|██████████| 10/10 [00:27<00:00,  2.80s/it]\n"
     ]
    },
    {
     "name": "stdout",
     "output_type": "stream",
     "text": [
      "Trial 9, σ = 1.80\n"
     ]
    },
    {
     "name": "stderr",
     "output_type": "stream",
     "text": [
      "Outer loop (digit i): 100%|██████████| 10/10 [00:27<00:00,  2.70s/it]\n"
     ]
    },
    {
     "name": "stdout",
     "output_type": "stream",
     "text": [
      "Trial 9, σ = 2.00\n"
     ]
    },
    {
     "name": "stderr",
     "output_type": "stream",
     "text": [
      "Outer loop (digit i): 100%|██████████| 10/10 [00:27<00:00,  2.72s/it]\n"
     ]
    },
    {
     "name": "stdout",
     "output_type": "stream",
     "text": [
      "Trial 9, σ = 5.00\n"
     ]
    },
    {
     "name": "stderr",
     "output_type": "stream",
     "text": [
      "Outer loop (digit i): 100%|██████████| 10/10 [00:26<00:00,  2.70s/it]\n"
     ]
    },
    {
     "name": "stdout",
     "output_type": "stream",
     "text": [
      "Trial 9, σ = 10.00\n"
     ]
    },
    {
     "name": "stderr",
     "output_type": "stream",
     "text": [
      "Outer loop (digit i): 100%|██████████| 10/10 [00:27<00:00,  2.75s/it]\n"
     ]
    },
    {
     "name": "stdout",
     "output_type": "stream",
     "text": [
      "Trial 9, σ = 20.00\n"
     ]
    },
    {
     "name": "stderr",
     "output_type": "stream",
     "text": [
      "Outer loop (digit i): 100%|██████████| 10/10 [00:26<00:00,  2.69s/it]\n"
     ]
    },
    {
     "name": "stdout",
     "output_type": "stream",
     "text": [
      "Trial 9, σ = 50.00\n"
     ]
    },
    {
     "name": "stderr",
     "output_type": "stream",
     "text": [
      "Outer loop (digit i): 100%|██████████| 10/10 [00:27<00:00,  2.71s/it]\n"
     ]
    },
    {
     "name": "stdout",
     "output_type": "stream",
     "text": [
      "Trial 9, σ = 100.00\n"
     ]
    },
    {
     "name": "stderr",
     "output_type": "stream",
     "text": [
      "Outer loop (digit i): 100%|██████████| 10/10 [00:27<00:00,  2.72s/it]\n"
     ]
    }
   ],
   "source": [
    "sigmas = [0.2, 0.5, 1.0, 1.2, 1.4, 1.6, 1.8, 2.0, 5.0, 10.0, 20.0, 50.0, 100.0]\n",
    "sample_size = 50\n",
    "num_permutations = 300\n",
    "# 做 10 次试验，得到 shape=(5,8) 的 power 和 type1\n",
    "type1_mat, power_mat, p_mats = summarize_sigmas(\n",
    "    sigmas, sample_size, num_permutations, compute_mnist_matrix, make_rbf_kernel, n_trials=10, alpha=0.05\n",
    ")\n"
   ]
  },
  {
   "cell_type": "code",
   "execution_count": 4,
   "id": "3111e710",
   "metadata": {},
   "outputs": [
    {
     "ename": "NameError",
     "evalue": "name 'plot_power_type1' is not defined",
     "output_type": "error",
     "traceback": [
      "\u001b[1;31m---------------------------------------------------------------------------\u001b[0m",
      "\u001b[1;31mNameError\u001b[0m                                 Traceback (most recent call last)",
      "Cell \u001b[1;32mIn[4], line 2\u001b[0m\n\u001b[0;32m      1\u001b[0m xticks \u001b[38;5;241m=\u001b[39m [\u001b[38;5;241m0.2\u001b[39m, \u001b[38;5;241m0.5\u001b[39m, \u001b[38;5;241m1.0\u001b[39m, \u001b[38;5;241m1\u001b[39m,\u001b[38;5;241m5\u001b[39m, \u001b[38;5;241m2.0\u001b[39m, \u001b[38;5;241m5.0\u001b[39m, \u001b[38;5;241m10.0\u001b[39m, \u001b[38;5;241m20.0\u001b[39m, \u001b[38;5;241m50.0\u001b[39m]\n\u001b[1;32m----> 2\u001b[0m fig, ax \u001b[38;5;241m=\u001b[39m \u001b[43mplot_power_type1\u001b[49m(sigmas, power_mat, type1_mat, alpha\u001b[38;5;241m=\u001b[39m\u001b[38;5;241m0.05\u001b[39m, xticks\u001b[38;5;241m=\u001b[39mxticks)\n\u001b[0;32m      3\u001b[0m plt\u001b[38;5;241m.\u001b[39mshow()\n",
      "\u001b[1;31mNameError\u001b[0m: name 'plot_power_type1' is not defined"
     ]
    }
   ],
   "source": [
    "xticks = [0.2, 0.5, 1.0, 1,5, 2.0, 5.0, 10.0, 20.0, 50.0]\n",
    "fig, ax = plot_power_type1(sigmas, power_mat, type1_mat, alpha=0.05, xticks=xticks)\n",
    "plt.show()"
   ]
  },
  {
   "cell_type": "markdown",
   "id": "98e5ac5a",
   "metadata": {},
   "source": [
    "## Type 1 error control in noise and blur"
   ]
  },
  {
   "cell_type": "code",
   "execution_count": null,
   "id": "1098f552",
   "metadata": {},
   "outputs": [],
   "source": [
    "from scipy.ndimage import gaussian_filter\n",
    "# === 数据变换函数 ===\n",
    "def add_noise(X: np.ndarray, noise_std: float):\n",
    "    noisy = X + np.random.normal(scale=noise_std, size=X.shape)\n",
    "    return np.clip(noisy, 0, 16)\n",
    "\n",
    "def blur_images(X: np.ndarray, blur_sigma: float):\n",
    "    imgs = X.reshape(-1, 8, 8)\n",
    "    blurred = np.array([gaussian_filter(img, sigma=blur_sigma) for img in imgs])\n",
    "    return blurred.reshape(-1, 64)\n",
    "\n",
    "def systematic_type1_experiments(\n",
    "    sample_size: int,\n",
    "    sigmas: list,\n",
    "    num_permutations: int,\n",
    "    noise_stds: list,\n",
    "    blur_sigmas: list,\n",
    "    n_trials: int = 50,\n",
    "    alpha: float = 0.05\n",
    "):\n",
    "    digits = load_digits()\n",
    "    X_all = digits.data  # shape (1797, 64)\n",
    "    y_all = digits.target\n",
    "    results_noise = np.zeros((len(noise_stds), len(sigmas)))\n",
    "    results_blur  = np.zeros((len(blur_sigmas), len(sigmas)))\n",
    "    \n",
    "    # 对每个噪声水平\n",
    "    for i, std in enumerate(noise_stds):\n",
    "        for j, sigma in enumerate(sigmas):\n",
    "            kernel = make_rbf_kernel(sigma)\n",
    "            count_reject = 0\n",
    "            total = 0\n",
    "            for d in range(10):\n",
    "                Xd = X_all[y_all == d]\n",
    "                for t in range(n_trials):\n",
    "                    idx = np.random.choice(len(Xd), sample_size, replace=False)\n",
    "                    P = Xd[idx]\n",
    "                    Q = add_noise(P, std)\n",
    "                    pval, _, _ = permutation_test(P, Q, kernel, num_permutations)\n",
    "                    if pval < alpha:\n",
    "                        count_reject += 1\n",
    "                    total += 1\n",
    "            results_noise[i, j] = count_reject / total\n",
    "\n",
    "    # 对每个模糊水平\n",
    "    for i, bs in enumerate(blur_sigmas):\n",
    "        for j, sigma in enumerate(sigmas):\n",
    "            kernel = make_rbf_kernel(sigma)\n",
    "            count_reject = 0\n",
    "            total = 0\n",
    "            for d in range(10):\n",
    "                Xd = X_all[y_all == d]\n",
    "                for t in range(n_trials):\n",
    "                    idx = np.random.choice(len(Xd), sample_size, replace=False)\n",
    "                    P = Xd[idx]\n",
    "                    Q = blur_images(P, bs)\n",
    "                    pval, _, _ = permutation_test(P, Q, kernel, num_permutations)\n",
    "                    if pval < alpha:\n",
    "                        count_reject += 1\n",
    "                    total += 1\n",
    "            results_blur[i, j] = count_reject / total\n",
    "\n",
    "    return results_noise, results_blur"
   ]
  },
  {
   "cell_type": "code",
   "execution_count": 61,
   "id": "b0607cfe",
   "metadata": {},
   "outputs": [],
   "source": [
    "def systematic_type1_experiments(\n",
    "    sample_size: int,\n",
    "    sigmas: list,\n",
    "    num_permutations: int,\n",
    "    noise_stds: list,\n",
    "    blur_sigmas: list,\n",
    "    n_trials: int = 50,\n",
    "    alpha: float = 0.05\n",
    "):\n",
    "    digits = load_digits()\n",
    "    X_all = digits.data  # shape (1797, 64)\n",
    "    y_all = digits.target\n",
    "    results_noise = np.zeros((len(noise_stds), len(sigmas)))\n",
    "    results_blur  = np.zeros((len(blur_sigmas), len(sigmas)))\n",
    "    \n",
    "    # 对每个噪声水平\n",
    "    for i, std in tqdm(enumerate(noise_stds), desc='Noise levels', total=len(noise_stds)):\n",
    "        for j, sigma in enumerate(sigmas):\n",
    "            kernel = make_rbf_kernel(sigma)\n",
    "            count_reject = 0\n",
    "            total = 0\n",
    "            for d in range(10):\n",
    "                Xd = X_all[y_all == d]\n",
    "                for t in range(n_trials):\n",
    "                    idx = np.random.choice(len(Xd), sample_size, replace=False)\n",
    "                    P = Xd[idx]\n",
    "                    Q = add_noise(P, std)\n",
    "                    pval, _, _ = permutation_test(P, Q, kernel, num_permutations)\n",
    "                    if pval < alpha:\n",
    "                        count_reject += 1\n",
    "                    total += 1\n",
    "            results_noise[i, j] = count_reject / total\n",
    "\n",
    "    # 对每个模糊水平\n",
    "    for i, bs in tqdm(enumerate(blur_sigmas), desc='Blur levels', total=len(blur_sigmas)):\n",
    "        for j, sigma in enumerate(sigmas):\n",
    "            kernel = make_rbf_kernel(sigma)\n",
    "            count_reject = 0\n",
    "            total = 0\n",
    "            for d in range(10):\n",
    "                Xd = X_all[y_all == d]\n",
    "                for t in range(n_trials):\n",
    "                    idx = np.random.choice(len(Xd), sample_size, replace=False)\n",
    "                    P = Xd[idx]\n",
    "                    Q = blur_images(P, bs)\n",
    "                    pval, _, _ = permutation_test(P, Q, kernel, num_permutations)\n",
    "                    if pval < alpha:\n",
    "                        count_reject += 1\n",
    "                    total += 1\n",
    "            results_blur[i, j] = count_reject / total\n",
    "\n",
    "    return results_noise, results_blur\n",
    "\n",
    "# === 画图函数 ===\n",
    "def plot_type1_vs_sigma(sigmas, param_values, results, title):\n",
    "    \"\"\"\n",
    "    sigmas: list of sigma\n",
    "    param_values: list of noise_stds or blur_sigmas\n",
    "    results: 2D array shape (len(param_values), len(sigmas))\n",
    "    \"\"\"\n",
    "    plt.figure(figsize=(8, 4))\n",
    "    for i, val in enumerate(param_values):\n",
    "        plt.plot(sigmas, results[i], marker='o', label=f\"{val}\")\n",
    "    plt.xscale('log')\n",
    "    plt.xticks(sigmas, [s for s in sigmas], rotation=45)\n",
    "    plt.axhline(0.05, color='gray', linestyle='--', label=\"α=0.05\")\n",
    "    plt.xlabel('RBF Kernel σ')\n",
    "    plt.ylabel('Type I Error Rate')\n",
    "    plt.title(title)\n",
    "    plt.legend(title='Level')\n",
    "    plt.grid(True, which='both', linestyle='--', linewidth=0.5)\n",
    "    plt.tight_layout()"
   ]
  },
  {
   "cell_type": "code",
   "execution_count": null,
   "id": "2df913c4",
   "metadata": {},
   "outputs": [
    {
     "name": "stderr",
     "output_type": "stream",
     "text": [
      "Noise levels: 100%|██████████| 4/4 [09:47<00:00, 146.96s/it]\n",
      "Blur levels: 100%|██████████| 4/4 [10:49<00:00, 162.27s/it]\n"
     ]
    },
    {
     "data": {
      "image/png": "[encoded data removed]",
      "text/plain": [
       "<Figure size 800x400 with 1 Axes>"
      ]
     },
     "metadata": {},
     "output_type": "display_data"
    },
    {
     "data": {
      "image/png": "[encoded data removed]",
      "text/plain": [
       "<Figure size 800x400 with 1 Axes>"
      ]
     },
     "metadata": {},
     "output_type": "display_data"
    }
   ],
   "source": [
    "sample_size = 50\n",
    "sigmas = [0.5, 1, 2, 5, 10]\n",
    "num_permutations = 300\n",
    "noise_stds = [0.0, 0.2, 0.5, 1.0]\n",
    "blur_sigmas = [0.0, 0.5, 1.0, 2.0]\n",
    "n_trials = 10\n",
    "# 运行系统实验\n",
    "noise_res, blur_res = systematic_type1_experiments(\n",
    "    sample_size, sigmas, num_permutations,\n",
    "    noise_stds, blur_sigmas,\n",
    "    n_trials=n_trials, alpha=0.05\n",
    ")\n"
   ]
  },
  {
   "cell_type": "code",
   "execution_count": 62,
   "id": "6d7077da",
   "metadata": {},
   "outputs": [
    {
     "data": {
      "image/png": "[encoded data removed]",
      "text/plain": [
       "<Figure size 800x400 with 1 Axes>"
      ]
     },
     "metadata": {},
     "output_type": "display_data"
    },
    {
     "data": {
      "image/png": "[encoded data removed]",
      "text/plain": [
       "<Figure size 800x400 with 1 Axes>"
      ]
     },
     "metadata": {},
     "output_type": "display_data"
    }
   ],
   "source": [
    "# 绘图\n",
    "plot_type1_vs_sigma(sigmas, noise_stds, noise_res, title=\"Type I Error vs σ (Noise)\")\n",
    "plot_type1_vs_sigma(sigmas, blur_sigmas, blur_res, title=\"Type I Error vs σ (Blur)\")\n",
    "plt.show()"
   ]
  },
  {
   "cell_type": "code",
   "execution_count": 3,
   "id": "251993db",
   "metadata": {},
   "outputs": [
    {
     "data": {
      "image/png": "[encoded data removed]",
      "text/plain": [
       "<Figure size 800x200 with 4 Axes>"
      ]
     },
     "metadata": {},
     "output_type": "display_data"
    }
   ],
   "source": [
    "import numpy as np\n",
    "import matplotlib.pyplot as plt\n",
    "from sklearn.datasets import load_digits\n",
    "from scipy.ndimage import gaussian_filter\n",
    "\n",
    "def visualize_blur_example(digit: int, blur_sigmas: list):\n",
    "    \"\"\"\n",
    "    从 sklearn 的 load_digits（8×8 手写数字）中选取一个 digit 类别的示例，\n",
    "    对该图像应用不同程度的高斯模糊，并可视化结果。\n",
    "\n",
    "    参数:\n",
    "        digit (int): 手写数字类别 (0–9)\n",
    "        blur_sigmas (list of float): 要测试的模糊程度 (高斯核 σ)\n",
    "    \"\"\"\n",
    "    # 加载数据并找到第一个该类别的样本\n",
    "    digits = load_digits()\n",
    "    X, y = digits.data, digits.target\n",
    "    idx = np.where(y == digit)[0][0]\n",
    "    img = X[idx].reshape(8, 8)\n",
    "\n",
    "    # 创建子图\n",
    "    n = len(blur_sigmas)\n",
    "    fig, axes = plt.subplots(1, n, figsize=(2*n, 2))\n",
    "    for ax, sigma in zip(axes, blur_sigmas):\n",
    "        if sigma == 0.0:\n",
    "            blurred = img\n",
    "        else:\n",
    "            blurred = gaussian_filter(img, sigma=sigma)\n",
    "        ax.imshow(blurred, cmap='gray', interpolation='nearest')\n",
    "        ax.set_title(f'level = {sigma}')\n",
    "        ax.axis('off')\n",
    "\n",
    "    fig.suptitle(f'Digit {digit}: Gaussian Blur Examples', fontsize=14)\n",
    "    plt.tight_layout(rect=[0, 0, 1, 0.9])\n",
    "    plt.show()\n",
    "\n",
    "# 示例调用\n",
    "visualize_blur_example(digit=0, blur_sigmas=[0.0, 0.5, 1.0, 2.0])"
   ]
  },
  {
   "cell_type": "code",
   "execution_count": 2,
   "id": "d07adb86",
   "metadata": {},
   "outputs": [
    {
     "data": {
      "image/png": "[encoded data removed]",
      "text/plain": [
       "<Figure size 1000x500 with 10 Axes>"
      ]
     },
     "metadata": {},
     "output_type": "display_data"
    }
   ],
   "source": [
    "import numpy as np\n",
    "import matplotlib.pyplot as plt\n",
    "from sklearn.datasets import load_digits\n",
    "\n",
    "def sample_and_plot_digits():\n",
    "    \"\"\"\n",
    "    从 sklearn 8×8 数字数据集中，\n",
    "    为每个数字 0-9 随机抽取一张样本并可视化。\n",
    "    \"\"\"\n",
    "    digits = load_digits()\n",
    "    X, y = digits.data, digits.target\n",
    "\n",
    "    # 在每个类别中随机选择一个样本\n",
    "    chosen_idxs = [np.random.choice(np.where(y == d)[0]) for d in range(10)]\n",
    "    \n",
    "    # 创建 2×5 网格显示\n",
    "    fig, axes = plt.subplots(2, 5, figsize=(10, 5))\n",
    "    for digit, ax in zip(range(10), axes.flatten()):\n",
    "        img = X[chosen_idxs[digit]].reshape(8, 8)\n",
    "        ax.imshow(img, cmap='gray', interpolation='nearest')\n",
    "        ax.set_title(f\"Digit {digit}\")\n",
    "        ax.axis('off')\n",
    "\n",
    "    fig.suptitle(\"One Sample per Digit (0–9)\", fontsize=16)\n",
    "    plt.tight_layout(rect=[0, 0, 1, 0.95])\n",
    "    plt.show()\n",
    "\n",
    "# 执行示例\n",
    "sample_and_plot_digits()"
   ]
  }
 ],
 "metadata": {
  "kernelspec": {
   "display_name": "Python 3",
   "language": "python",
   "name": "python3"
  },
  "language_info": {
   "codemirror_mode": {
    "name": "ipython",
    "version": 3
   },
   "file_extension": ".py",
   "mimetype": "text/x-python",
   "name": "python",
   "nbconvert_exporter": "python",
   "pygments_lexer": "ipython3",
   "version": "3.10.11"
  }
 },
 "nbformat": 4,
 "nbformat_minor": 5
}
